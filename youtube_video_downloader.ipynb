{
 "cells": [
  {
   "cell_type": "code",
   "execution_count": 1,
   "id": "32831643-de50-4860-b2bd-fe6a281764f8",
   "metadata": {},
   "outputs": [
    {
     "name": "stdin",
     "output_type": "stream",
     "text": [
      "Enter video url:  https://youtu.be/1hHOieH0tm0?si=vKQ1YLIj0-6SJFkc\n"
     ]
    },
    {
     "name": "stdout",
     "output_type": "stream",
     "text": [
      "[youtube] Extracting URL: https://youtu.be/1hHOieH0tm0?si=vKQ1YLIj0-6SJFkc\n",
      "[youtube] 1hHOieH0tm0: Downloading webpage\n",
      "[youtube] 1hHOieH0tm0: Downloading ios player API JSON\n",
      "[youtube] 1hHOieH0tm0: Downloading android player API JSON\n",
      "[youtube] 1hHOieH0tm0: Downloading m3u8 information\n",
      "[info] 1hHOieH0tm0: Downloading 1 format(s): 22\n",
      "[download] Destination: /home/allan/Home/Videos/movies/Post Malone - ポスト・マローン歌手の最高の歌.mp4\n",
      "[download] 100% of   89.29MiB in 00:01:40 at 909.78KiB/s   \n",
      "Video downloaded successfully!\n"
     ]
    }
   ],
   "source": [
    "import yt_dlp\n",
    "\n",
    "#Enter the url for the download\n",
    "url = input(\"Enter video url: \")\n",
    "download_directory = '/home/allan/Home/Videos/movies'\n",
    "\n",
    "ydl_opts = {\n",
    "    'outtmpl' : f'{download_directory}/%(title)s.%(ext)s',\n",
    "    'format':'best' #best or worst for video quality\n",
    "}\n",
    "\n",
    "with yt_dlp.YoutubeDL(ydl_opts) as ydl:\n",
    "    ydl.download([url])\n",
    "\n",
    "print(\"Video downloaded successfully!\")\n"
   ]
  },
  {
   "cell_type": "code",
   "execution_count": null,
   "id": "e10af6a0-615c-4ddb-b0bd-d6d347dd0c87",
   "metadata": {},
   "outputs": [],
   "source": []
  }
 ],
 "metadata": {
  "kernelspec": {
   "display_name": "Python 3 (ipykernel)",
   "language": "python",
   "name": "python3"
  },
  "language_info": {
   "codemirror_mode": {
    "name": "ipython",
    "version": 3
   },
   "file_extension": ".py",
   "mimetype": "text/x-python",
   "name": "python",
   "nbconvert_exporter": "python",
   "pygments_lexer": "ipython3",
   "version": "3.10.12"
  }
 },
 "nbformat": 4,
 "nbformat_minor": 5
}
